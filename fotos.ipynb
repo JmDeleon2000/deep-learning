{
 "cells": [
  {
   "cell_type": "code",
   "execution_count": 1,
   "metadata": {},
   "outputs": [],
   "source": [
    "import pandas as pd\n",
    "from tensorflow import keras\n",
    "from tensorflow.keras import layers\n",
    "import numpy as np\n",
    "import matplotlib.pyplot as plt"
   ]
  },
  {
   "cell_type": "code",
   "execution_count": 2,
   "metadata": {},
   "outputs": [],
   "source": [
    "ConvNN = keras.models.load_model('convNN_save_at_25.h5')"
   ]
  },
  {
   "cell_type": "code",
   "execution_count": 13,
   "metadata": {},
   "outputs": [],
   "source": [
    "cuatro = 255-np.reshape(plt.imread('4.jpg'), 784) \n",
    "seis = 255-np.reshape(plt.imread('6.jpg'), 784) \n",
    "ocho = 255-np.reshape(plt.imread('8.jpg'), 784) \n",
    "nueve = 255-np.reshape(plt.imread('9.jpg'), 784) "
   ]
  },
  {
   "cell_type": "code",
   "execution_count": 16,
   "metadata": {},
   "outputs": [
    {
     "data": {
      "text/plain": [
       "(4, 784)"
      ]
     },
     "execution_count": 16,
     "metadata": {},
     "output_type": "execute_result"
    }
   ],
   "source": [
    "junto = np.array([cuatro, seis, ocho, nueve])\n",
    "junto.shape"
   ]
  },
  {
   "cell_type": "code",
   "execution_count": 17,
   "metadata": {},
   "outputs": [
    {
     "name": "stdout",
     "output_type": "stream",
     "text": [
      "1/1 [==============================] - 0s 328ms/step\n"
     ]
    },
    {
     "data": {
      "text/plain": [
       "array([[1.62362624e-02, 5.32670282e-02, 4.38178815e-02, 4.38255109e-02,\n",
       "        3.40579867e-01, 2.14198492e-02, 2.25092266e-02, 1.52543232e-01,\n",
       "        4.63953316e-02, 2.59405822e-01],\n",
       "       [6.11111987e-04, 3.04307137e-03, 4.19642369e-04, 1.18151787e-04,\n",
       "        2.15404143e-04, 2.14710794e-02, 9.70386147e-01, 2.51200072e-05,\n",
       "        3.70831252e-03, 1.88574415e-06],\n",
       "       [6.62012864e-03, 7.21852621e-03, 2.46955920e-02, 4.35872786e-02,\n",
       "        1.41569152e-02, 1.51033085e-02, 1.89890945e-03, 5.44486567e-03,\n",
       "        8.52548838e-01, 2.87256781e-02],\n",
       "       [7.01979315e-03, 1.75431371e-02, 3.87600325e-02, 3.47832471e-01,\n",
       "        2.31928434e-02, 1.83571115e-01, 5.00967819e-03, 6.30739331e-02,\n",
       "        6.32122681e-02, 2.50784725e-01]], dtype=float32)"
      ]
     },
     "execution_count": 17,
     "metadata": {},
     "output_type": "execute_result"
    }
   ],
   "source": [
    "pred = ConvNN.predict(junto)"
   ]
  },
  {
   "cell_type": "code",
   "execution_count": 19,
   "metadata": {},
   "outputs": [],
   "source": [
    "results = np.zeros(shape=pred.shape[0], dtype='uint8')\n",
    "\n",
    "for i in range(pred.shape[0]):\n",
    "    results[i] = int(np.argmax(pred[i]))"
   ]
  },
  {
   "cell_type": "code",
   "execution_count": 21,
   "metadata": {},
   "outputs": [
    {
     "data": {
      "image/png": "[encoded data removed]",
      "text/plain": [
       "<Figure size 720x720 with 4 Axes>"
      ]
     },
     "metadata": {
      "needs_background": "light"
     },
     "output_type": "display_data"
    }
   ],
   "source": [
    "plt.figure(figsize=(10, 10))\n",
    "for i in range(4):\n",
    "    ax = plt.subplot(2, 2, i + 1)\n",
    "    img = np.copy(junto[i]).reshape((28,28))\n",
    "    plt.imshow(img.astype('uint8'))\n",
    "    plt.title(results[i])\n",
    "    plt.axis(\"off\")"
   ]
  }
 ],
 "metadata": {
  "kernelspec": {
   "display_name": "Python 3.9.4 64-bit",
   "language": "python",
   "name": "python3"
  },
  "language_info": {
   "codemirror_mode": {
    "name": "ipython",
    "version": 3
   },
   "file_extension": ".py",
   "mimetype": "text/x-python",
   "name": "python",
   "nbconvert_exporter": "python",
   "pygments_lexer": "ipython3",
   "version": "3.9.4"
  },
  "orig_nbformat": 4,
  "vscode": {
   "interpreter": {
    "hash": "11938c6bc6919ae2720b4d5011047913343b08a43b18698fd82dedb0d4417594"
   }
  }
 },
 "nbformat": 4,
 "nbformat_minor": 2
}
