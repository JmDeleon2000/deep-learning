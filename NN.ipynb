{
 "cells": [
  {
   "cell_type": "code",
   "execution_count": 60,
   "metadata": {},
   "outputs": [],
   "source": [
    "import pandas as pd\n",
    "from tensorflow import keras\n",
    "from tensorflow.keras import layers\n",
    "import numpy as np\n",
    "import matplotlib.pyplot as plt\n",
    "from sklearn.model_selection import train_test_split"
   ]
  },
  {
   "cell_type": "code",
   "execution_count": 61,
   "metadata": {},
   "outputs": [
    {
     "data": {
      "text/html": [
       "<div>\n",
       "<style scoped>\n",
       "    .dataframe tbody tr th:only-of-type {\n",
       "        vertical-align: middle;\n",
       "    }\n",
       "\n",
       "    .dataframe tbody tr th {\n",
       "        vertical-align: top;\n",
       "    }\n",
       "\n",
       "    .dataframe thead th {\n",
       "        text-align: right;\n",
       "    }\n",
       "</style>\n",
       "<table border=\"1\" class=\"dataframe\">\n",
       "  <thead>\n",
       "    <tr style=\"text-align: right;\">\n",
       "      <th></th>\n",
       "      <th>label</th>\n",
       "      <th>pixel0</th>\n",
       "      <th>pixel1</th>\n",
       "      <th>pixel2</th>\n",
       "      <th>pixel3</th>\n",
       "      <th>pixel4</th>\n",
       "      <th>pixel5</th>\n",
       "      <th>pixel6</th>\n",
       "      <th>pixel7</th>\n",
       "      <th>pixel8</th>\n",
       "      <th>...</th>\n",
       "      <th>pixel774</th>\n",
       "      <th>pixel775</th>\n",
       "      <th>pixel776</th>\n",
       "      <th>pixel777</th>\n",
       "      <th>pixel778</th>\n",
       "      <th>pixel779</th>\n",
       "      <th>pixel780</th>\n",
       "      <th>pixel781</th>\n",
       "      <th>pixel782</th>\n",
       "      <th>pixel783</th>\n",
       "    </tr>\n",
       "  </thead>\n",
       "  <tbody>\n",
       "    <tr>\n",
       "      <th>0</th>\n",
       "      <td>1</td>\n",
       "      <td>0</td>\n",
       "      <td>0</td>\n",
       "      <td>0</td>\n",
       "      <td>0</td>\n",
       "      <td>0</td>\n",
       "      <td>0</td>\n",
       "      <td>0</td>\n",
       "      <td>0</td>\n",
       "      <td>0</td>\n",
       "      <td>...</td>\n",
       "      <td>0</td>\n",
       "      <td>0</td>\n",
       "      <td>0</td>\n",
       "      <td>0</td>\n",
       "      <td>0</td>\n",
       "      <td>0</td>\n",
       "      <td>0</td>\n",
       "      <td>0</td>\n",
       "      <td>0</td>\n",
       "      <td>0</td>\n",
       "    </tr>\n",
       "    <tr>\n",
       "      <th>1</th>\n",
       "      <td>0</td>\n",
       "      <td>0</td>\n",
       "      <td>0</td>\n",
       "      <td>0</td>\n",
       "      <td>0</td>\n",
       "      <td>0</td>\n",
       "      <td>0</td>\n",
       "      <td>0</td>\n",
       "      <td>0</td>\n",
       "      <td>0</td>\n",
       "      <td>...</td>\n",
       "      <td>0</td>\n",
       "      <td>0</td>\n",
       "      <td>0</td>\n",
       "      <td>0</td>\n",
       "      <td>0</td>\n",
       "      <td>0</td>\n",
       "      <td>0</td>\n",
       "      <td>0</td>\n",
       "      <td>0</td>\n",
       "      <td>0</td>\n",
       "    </tr>\n",
       "    <tr>\n",
       "      <th>2</th>\n",
       "      <td>1</td>\n",
       "      <td>0</td>\n",
       "      <td>0</td>\n",
       "      <td>0</td>\n",
       "      <td>0</td>\n",
       "      <td>0</td>\n",
       "      <td>0</td>\n",
       "      <td>0</td>\n",
       "      <td>0</td>\n",
       "      <td>0</td>\n",
       "      <td>...</td>\n",
       "      <td>0</td>\n",
       "      <td>0</td>\n",
       "      <td>0</td>\n",
       "      <td>0</td>\n",
       "      <td>0</td>\n",
       "      <td>0</td>\n",
       "      <td>0</td>\n",
       "      <td>0</td>\n",
       "      <td>0</td>\n",
       "      <td>0</td>\n",
       "    </tr>\n",
       "    <tr>\n",
       "      <th>3</th>\n",
       "      <td>4</td>\n",
       "      <td>0</td>\n",
       "      <td>0</td>\n",
       "      <td>0</td>\n",
       "      <td>0</td>\n",
       "      <td>0</td>\n",
       "      <td>0</td>\n",
       "      <td>0</td>\n",
       "      <td>0</td>\n",
       "      <td>0</td>\n",
       "      <td>...</td>\n",
       "      <td>0</td>\n",
       "      <td>0</td>\n",
       "      <td>0</td>\n",
       "      <td>0</td>\n",
       "      <td>0</td>\n",
       "      <td>0</td>\n",
       "      <td>0</td>\n",
       "      <td>0</td>\n",
       "      <td>0</td>\n",
       "      <td>0</td>\n",
       "    </tr>\n",
       "    <tr>\n",
       "      <th>4</th>\n",
       "      <td>0</td>\n",
       "      <td>0</td>\n",
       "      <td>0</td>\n",
       "      <td>0</td>\n",
       "      <td>0</td>\n",
       "      <td>0</td>\n",
       "      <td>0</td>\n",
       "      <td>0</td>\n",
       "      <td>0</td>\n",
       "      <td>0</td>\n",
       "      <td>...</td>\n",
       "      <td>0</td>\n",
       "      <td>0</td>\n",
       "      <td>0</td>\n",
       "      <td>0</td>\n",
       "      <td>0</td>\n",
       "      <td>0</td>\n",
       "      <td>0</td>\n",
       "      <td>0</td>\n",
       "      <td>0</td>\n",
       "      <td>0</td>\n",
       "    </tr>\n",
       "  </tbody>\n",
       "</table>\n",
       "<p>5 rows × 785 columns</p>\n",
       "</div>"
      ],
      "text/plain": [
       "   label  pixel0  pixel1  pixel2  pixel3  pixel4  pixel5  pixel6  pixel7  \\\n",
       "0      1       0       0       0       0       0       0       0       0   \n",
       "1      0       0       0       0       0       0       0       0       0   \n",
       "2      1       0       0       0       0       0       0       0       0   \n",
       "3      4       0       0       0       0       0       0       0       0   \n",
       "4      0       0       0       0       0       0       0       0       0   \n",
       "\n",
       "   pixel8  ...  pixel774  pixel775  pixel776  pixel777  pixel778  pixel779  \\\n",
       "0       0  ...         0         0         0         0         0         0   \n",
       "1       0  ...         0         0         0         0         0         0   \n",
       "2       0  ...         0         0         0         0         0         0   \n",
       "3       0  ...         0         0         0         0         0         0   \n",
       "4       0  ...         0         0         0         0         0         0   \n",
       "\n",
       "   pixel780  pixel781  pixel782  pixel783  \n",
       "0         0         0         0         0  \n",
       "1         0         0         0         0  \n",
       "2         0         0         0         0  \n",
       "3         0         0         0         0  \n",
       "4         0         0         0         0  \n",
       "\n",
       "[5 rows x 785 columns]"
      ]
     },
     "execution_count": 61,
     "metadata": {},
     "output_type": "execute_result"
    }
   ],
   "source": [
    "df_train = pd.read_csv(\"nndata/train.csv\")\n",
    "df_train.head()"
   ]
  },
  {
   "cell_type": "code",
   "execution_count": 62,
   "metadata": {},
   "outputs": [
    {
     "data": {
      "text/plain": [
       "0"
      ]
     },
     "execution_count": 62,
     "metadata": {},
     "output_type": "execute_result"
    }
   ],
   "source": [
    "df_train.isna().sum().sum()"
   ]
  },
  {
   "cell_type": "markdown",
   "metadata": {},
   "source": [
    "El set no tiene datos faltantes."
   ]
  },
  {
   "cell_type": "code",
   "execution_count": 63,
   "metadata": {},
   "outputs": [
    {
     "data": {
      "text/plain": [
       "0"
      ]
     },
     "execution_count": 63,
     "metadata": {},
     "output_type": "execute_result"
    }
   ],
   "source": [
    "df_train.mask(df_train.gt(255) & df_train.lt(0))\n",
    "df_train.isna().sum().sum()"
   ]
  },
  {
   "cell_type": "markdown",
   "metadata": {},
   "source": [
    "También se encontró que ningún pixel se sale del rango esperado"
   ]
  },
  {
   "cell_type": "code",
   "execution_count": 64,
   "metadata": {},
   "outputs": [],
   "source": [
    "labels = df_train.pop('label')\n",
    "features = np.array(df_train)\n",
    "features_train, features_test, labels_train, labels_test = train_test_split(features, \n",
    "labels, test_size=0.33, random_state=42)"
   ]
  },
  {
   "cell_type": "code",
   "execution_count": 65,
   "metadata": {},
   "outputs": [
    {
     "data": {
      "image/png": "[encoded data removed]",
      "text/plain": [
       "<Figure size 720x720 with 9 Axes>"
      ]
     },
     "metadata": {
      "needs_background": "light"
     },
     "output_type": "display_data"
    }
   ],
   "source": [
    "plt.figure(figsize=(10, 10))\n",
    "for i in range(9):\n",
    "    ax = plt.subplot(3, 3, i + 1)\n",
    "    img = np.copy(features[i]).reshape((28,28))\n",
    "    plt.imshow(img.astype('uint8'))\n",
    "    plt.title(labels[i])\n",
    "    plt.axis(\"off\")"
   ]
  },
  {
   "cell_type": "code",
   "execution_count": 66,
   "metadata": {},
   "outputs": [
    {
     "name": "stdout",
     "output_type": "stream",
     "text": [
      "Min: 0\n",
      "Max: 9\n"
     ]
    }
   ],
   "source": [
    "print(f'Min: {labels.min()}')\n",
    "print(f'Max: {labels.max()}')"
   ]
  },
  {
   "cell_type": "markdown",
   "metadata": {},
   "source": [
    "Al inspeccionar las gráficas y los máximos y mínimos de las labels se puede concluir que, de estar bien clasificados los números, estos van del 0 al 9."
   ]
  },
  {
   "cell_type": "code",
   "execution_count": 173,
   "metadata": {},
   "outputs": [
    {
     "data": {
      "text/plain": [
       "(None, 10)"
      ]
     },
     "execution_count": 173,
     "metadata": {},
     "output_type": "execute_result"
    }
   ],
   "source": [
    "keras.utils.set_random_seed(1234)\n",
    "NN_simple = keras.Sequential()\n",
    "NN_simple.bias = 0.5\n",
    "NN_simple.add(keras.layers.Input(784))\n",
    "NN_simple.add(keras.layers.Rescaling(1.0/255))\n",
    "\n",
    "NN_simple.add(keras.layers.Dense(784, activation='relu'))\n",
    "#NN_simple.add(keras.layers.Dense(392, activation='relu'))\n",
    "NN_simple.add(keras.layers.Dense(196, activation='relu'))\n",
    "#NN_simple.add(keras.layers.Dense(98,  activation='relu'))\n",
    "NN_simple.add(keras.layers.Dense(49,  activation='relu'))\n",
    "\n",
    "#NN_simple.add(keras.layers.Dropout(.2))\n",
    "\n",
    "\n",
    "NN_simple.add(keras.layers.Dense(10, activation='softmax'))\n",
    "NN_simple.output_shape\n",
    "\n"
   ]
  },
  {
   "cell_type": "code",
   "execution_count": 172,
   "metadata": {},
   "outputs": [],
   "source": [
    "#cambiar el formato de las labels para que la NN pueda mostrar las probabilidades de que el número sea tal en vez del valor del número\n",
    "labels10 = np.zeros(shape=(labels_train.shape[0], 10), dtype=np.float32)\n",
    "for i, val in enumerate(labels_train):\n",
    "    labels10[i][val] = 1.0"
   ]
  },
  {
   "cell_type": "code",
   "execution_count": 69,
   "metadata": {},
   "outputs": [],
   "source": [
    "callbacks = [\n",
    "    keras.callbacks.ModelCheckpoint(\"save_at_{epoch}.h5\"),\n",
    "]"
   ]
  },
  {
   "cell_type": "code",
   "execution_count": 174,
   "metadata": {},
   "outputs": [],
   "source": [
    "NN_simple.compile( metrics=[\"accuracy\"], \n",
    "optimizer = keras.optimizers.Adam(learning_rate=1e-3), \n",
    "loss=\"categorical_crossentropy\")"
   ]
  },
  {
   "cell_type": "code",
   "execution_count": 175,
   "metadata": {},
   "outputs": [
    {
     "name": "stdout",
     "output_type": "stream",
     "text": [
      "Epoch 1/25\n",
      "880/880 [==============================] - 9s 9ms/step - loss: 0.2565 - accuracy: 0.9226\n",
      "Epoch 2/25\n",
      "880/880 [==============================] - 8s 9ms/step - loss: 0.1100 - accuracy: 0.9668\n",
      "Epoch 3/25\n",
      "880/880 [==============================] - 8s 9ms/step - loss: 0.0711 - accuracy: 0.9767\n",
      "Epoch 4/25\n",
      "880/880 [==============================] - 8s 9ms/step - loss: 0.0540 - accuracy: 0.9825\n",
      "Epoch 5/25\n",
      "880/880 [==============================] - 8s 9ms/step - loss: 0.0448 - accuracy: 0.9845\n",
      "Epoch 6/25\n",
      "880/880 [==============================] - 8s 9ms/step - loss: 0.0368 - accuracy: 0.9883\n",
      "Epoch 7/25\n",
      "880/880 [==============================] - 8s 9ms/step - loss: 0.0264 - accuracy: 0.9915\n",
      "Epoch 8/25\n",
      "880/880 [==============================] - 8s 10ms/step - loss: 0.0302 - accuracy: 0.9902\n",
      "Epoch 9/25\n",
      "880/880 [==============================] - 8s 10ms/step - loss: 0.0232 - accuracy: 0.9927\n",
      "Epoch 10/25\n",
      "880/880 [==============================] - 8s 9ms/step - loss: 0.0239 - accuracy: 0.9934\n",
      "Epoch 11/25\n",
      "880/880 [==============================] - 9s 10ms/step - loss: 0.0163 - accuracy: 0.9947\n",
      "Epoch 12/25\n",
      "880/880 [==============================] - 9s 10ms/step - loss: 0.0206 - accuracy: 0.9939\n",
      "Epoch 13/25\n",
      "880/880 [==============================] - 8s 9ms/step - loss: 0.0160 - accuracy: 0.9947\n",
      "Epoch 14/25\n",
      "880/880 [==============================] - 8s 9ms/step - loss: 0.0170 - accuracy: 0.9951\n",
      "Epoch 15/25\n",
      "880/880 [==============================] - 4s 5ms/step - loss: 0.0165 - accuracy: 0.9950\n",
      "Epoch 16/25\n",
      "880/880 [==============================] - 5s 5ms/step - loss: 0.0122 - accuracy: 0.9962\n",
      "Epoch 17/25\n",
      "880/880 [==============================] - 5s 5ms/step - loss: 0.0107 - accuracy: 0.9970\n",
      "Epoch 18/25\n",
      "880/880 [==============================] - 5s 5ms/step - loss: 0.0156 - accuracy: 0.9960\n",
      "Epoch 19/25\n",
      "880/880 [==============================] - 5s 5ms/step - loss: 0.0151 - accuracy: 0.9955\n",
      "Epoch 20/25\n",
      "880/880 [==============================] - 5s 5ms/step - loss: 0.0115 - accuracy: 0.9964\n",
      "Epoch 21/25\n",
      "880/880 [==============================] - 5s 5ms/step - loss: 0.0082 - accuracy: 0.9981\n",
      "Epoch 22/25\n",
      "880/880 [==============================] - 5s 5ms/step - loss: 0.0168 - accuracy: 0.9949\n",
      "Epoch 23/25\n",
      "880/880 [==============================] - 5s 5ms/step - loss: 0.0093 - accuracy: 0.9973\n",
      "Epoch 24/25\n",
      "880/880 [==============================] - 5s 5ms/step - loss: 0.0109 - accuracy: 0.9970\n",
      "Epoch 25/25\n",
      "880/880 [==============================] - 5s 5ms/step - loss: 0.0090 - accuracy: 0.9978\n"
     ]
    },
    {
     "data": {
      "text/plain": [
       "<keras.callbacks.History at 0x2404508b370>"
      ]
     },
     "execution_count": 175,
     "metadata": {},
     "output_type": "execute_result"
    }
   ],
   "source": [
    "NN_simple.fit(features_train, labels10, epochs=25, callbacks = callbacks)"
   ]
  },
  {
   "cell_type": "code",
   "execution_count": 176,
   "metadata": {},
   "outputs": [
    {
     "name": "stdout",
     "output_type": "stream",
     "text": [
      "434/434 [==============================] - 3s 6ms/step\n"
     ]
    }
   ],
   "source": [
    "prediction = NN_simple.predict(features_test)"
   ]
  },
  {
   "cell_type": "code",
   "execution_count": 177,
   "metadata": {},
   "outputs": [
    {
     "data": {
      "text/plain": [
       "(13860, 10)"
      ]
     },
     "execution_count": 177,
     "metadata": {},
     "output_type": "execute_result"
    }
   ],
   "source": [
    "prediction.shape"
   ]
  },
  {
   "cell_type": "code",
   "execution_count": 178,
   "metadata": {},
   "outputs": [],
   "source": [
    "results = np.zeros(shape=prediction.shape[0], dtype='uint8')\n",
    "\n",
    "for i in range(prediction.shape[0]):\n",
    "    results[i] = int(np.argmax(prediction[i]))"
   ]
  },
  {
   "cell_type": "code",
   "execution_count": 179,
   "metadata": {},
   "outputs": [
    {
     "data": {
      "image/png": "[encoded data removed]",
      "text/plain": [
       "<Figure size 720x720 with 9 Axes>"
      ]
     },
     "metadata": {
      "needs_background": "light"
     },
     "output_type": "display_data"
    }
   ],
   "source": [
    "plt.figure(figsize=(10, 10))\n",
    "for i in range(9):\n",
    "    ax = plt.subplot(3, 3, i + 1)\n",
    "    img = np.copy(features_test[i]).reshape((28,28))\n",
    "    plt.imshow(img.astype('uint8'))\n",
    "    plt.title(results[i])\n",
    "    plt.axis(\"off\")"
   ]
  },
  {
   "cell_type": "code",
   "execution_count": 188,
   "metadata": {},
   "outputs": [
    {
     "data": {
      "text/plain": [
       "array([[1321,    0,    4,    0,    0,    1,    3,    1,    2,    1],\n",
       "       [   1, 1506,    3,    0,    1,    0,    2,    3,    3,    1],\n",
       "       [   4,    3, 1389,    1,    7,    0,    0,    2,    7,    1],\n",
       "       [   2,    4,   13, 1432,    0,    3,    0,    4,   11,    2],\n",
       "       [   4,    1,    1,    0, 1334,    0,    6,    2,    2,    8],\n",
       "       [   4,    3,    0,   34,    0, 1136,   17,    1,    5,    5],\n",
       "       [   5,    2,    0,    0,    2,    2, 1382,    0,    4,    0],\n",
       "       [   1,    8,   24,    2,   10,    0,    0, 1432,    0,    3],\n",
       "       [   0,   10,   13,   12,    5,    3,    8,    1, 1280,    2],\n",
       "       [   5,    6,    6,    4,   36,    0,    0,    7,   11, 1273]],\n",
       "      dtype=int64)"
      ]
     },
     "execution_count": 188,
     "metadata": {},
     "output_type": "execute_result"
    }
   ],
   "source": [
    "from sklearn.metrics import confusion_matrix\n",
    "confusion_matrix(y_true=labels_test, y_pred=results, labels=list(range(10)))"
   ]
  }
 ],
 "metadata": {
  "kernelspec": {
   "display_name": "Python 3.9.4 64-bit",
   "language": "python",
   "name": "python3"
  },
  "language_info": {
   "codemirror_mode": {
    "name": "ipython",
    "version": 3
   },
   "file_extension": ".py",
   "mimetype": "text/x-python",
   "name": "python",
   "nbconvert_exporter": "python",
   "pygments_lexer": "ipython3",
   "version": "3.9.4"
  },
  "orig_nbformat": 4,
  "vscode": {
   "interpreter": {
    "hash": "11938c6bc6919ae2720b4d5011047913343b08a43b18698fd82dedb0d4417594"
   }
  }
 },
 "nbformat": 4,
 "nbformat_minor": 2
}
